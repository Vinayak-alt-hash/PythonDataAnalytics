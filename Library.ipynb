{
 "cells": [
  {
   "cell_type": "code",
   "execution_count": 17,
   "metadata": {},
   "outputs": [],
   "source": [
    "import math"
   ]
  },
  {
   "cell_type": "code",
   "execution_count": 18,
   "metadata": {},
   "outputs": [
    {
     "name": "stdout",
     "output_type": "stream",
     "text": [
      "10.0\n",
      "8.0\n",
      "120\n",
      "1.5574077246549023\n",
      "50\n"
     ]
    }
   ],
   "source": [
    "print(math.sqrt(100))\n",
    "print(math.pow(2,3))\n",
    "print(math.factorial(5))\n",
    "print(math.tan(1))\n",
    "print(math.gcd(50))  #greatest common divisor"
   ]
  },
  {
   "cell_type": "code",
   "execution_count": 19,
   "metadata": {},
   "outputs": [],
   "source": [
    "from random import random, randint, choice, shuffle"
   ]
  },
  {
   "cell_type": "code",
   "execution_count": 20,
   "metadata": {},
   "outputs": [
    {
     "name": "stdout",
     "output_type": "stream",
     "text": [
      "get a random number between 2 and 5: 0.5548857687456019\n",
      "get a random number between 2 and 5: 3\n",
      "get a random element from a list: 10\n"
     ]
    }
   ],
   "source": [
    "print('get a random number between 2 and 5:',random())\n",
    "print('get a random number between 2 and 5:',randint(2,5))\n",
    "print('get a random element from a list:', choice([2,4,6,8,10,12]))\n"
   ]
  },
  {
   "cell_type": "code",
   "execution_count": 21,
   "metadata": {},
   "outputs": [
    {
     "name": "stdout",
     "output_type": "stream",
     "text": [
      "shuffle a list: ['wilson', 'frank', 'alice', 'johny']\n"
     ]
    }
   ],
   "source": [
    "names= ['alice','johny','frank','wilson']\n",
    "shuffle(names)\n",
    "print('shuffle a list:', names)"
   ]
  },
  {
   "cell_type": "code",
   "execution_count": 22,
   "metadata": {},
   "outputs": [],
   "source": [
    "from datetime import datetime as dt"
   ]
  },
  {
   "cell_type": "code",
   "execution_count": 23,
   "metadata": {},
   "outputs": [
    {
     "name": "stdout",
     "output_type": "stream",
     "text": [
      "current date and time: 2024-09-25 11:20:51.701683\n",
      "current time: 11:20:51.701683\n",
      "current date: 2024-09-25\n",
      "current month: 9\n",
      "current week: 2\n",
      "current minute: 20\n",
      "current hour: 11\n",
      "current microsecond: 701683\n",
      "current year: 2024\n"
     ]
    }
   ],
   "source": [
    "print('current date and time:', dt.now())\n",
    "print('current time:', dt.now().time())\n",
    "print('current date:', dt.now().date())\n",
    "print('current month:', dt.now().month)\n",
    "print('current week:', dt.now().weekday())\n",
    "print('current minute:', dt.now().minute)\n",
    "print('current hour:', dt.now().hour)\n",
    "print('current microsecond:', dt.now().microsecond)\n",
    "print('current year:', dt.now().year)\n"
   ]
  },
  {
   "cell_type": "code",
   "execution_count": 24,
   "metadata": {},
   "outputs": [
    {
     "name": "stdout",
     "output_type": "stream",
     "text": [
      "date: 25/09/24\n"
     ]
    }
   ],
   "source": [
    "date= dt.strftime(dt.now(), '%d/%m/%y')\n",
    "print('date:', date)"
   ]
  },
  {
   "cell_type": "code",
   "execution_count": 25,
   "metadata": {},
   "outputs": [
    {
     "name": "stdout",
     "output_type": "stream",
     "text": [
      "Time: 11:20:51\n"
     ]
    }
   ],
   "source": [
    "Time= dt.strftime(dt.now(), '%H:%M:%S')\n",
    "print('Time:', Time)"
   ]
  },
  {
   "cell_type": "code",
   "execution_count": 26,
   "metadata": {},
   "outputs": [],
   "source": [
    "import os"
   ]
  },
  {
   "cell_type": "code",
   "execution_count": 27,
   "metadata": {},
   "outputs": [
    {
     "name": "stdout",
     "output_type": "stream",
     "text": [
      "current working directory: c:\\Users\\HP\\OneDrive\\Desktop\\Python Data Analytics\n"
     ]
    }
   ],
   "source": [
    "print('current working directory:', os.getcwd())   #get_current_working_directory"
   ]
  },
  {
   "cell_type": "code",
   "execution_count": 28,
   "metadata": {},
   "outputs": [
    {
     "name": "stdout",
     "output_type": "stream",
     "text": [
      "files in the current directory: ['.git', 'conditions.ipynb', 'Dictionary.ipynb', 'Functions.ipynb', 'into.ipynb', 'Library.ipynb', 'List.ipynb', 'loop.ipynb', 'operators.ipynb', 'sets.ipynb', 'Turtle']\n",
      "11 files found\n"
     ]
    }
   ],
   "source": [
    "files= os.listdir()   #list_directory\n",
    "print('files in the current directory:', files)\n",
    "print(len(files), 'files found')"
   ]
  },
  {
   "cell_type": "code",
   "execution_count": 29,
   "metadata": {},
   "outputs": [
    {
     "name": "stdout",
     "output_type": "stream",
     "text": [
      "files found ['(Movies4u.Vip).The.Fall.Guy.2024.2160p.IT.WEB-DL.SDR.H.265.[Hindi DDP 5.1 + English DDP 5.1]-ESubs.mkv', '(Movies4u.Vip).Tumbbad (2018) Hindi Movie HD ESub 1080p Untouched.mkv', 'Gullak 2019 Hindi Season 1 Complete EP01-5 1080P - Vegamovies.to.mkv', 'Gullak 2021 Hindi Season 2 Complete 1080P - Vegamovies.to.mkv', 'Gullak+[Season+3]+Multi+Audio+[1080p]+-+Vegamovies.NL', 'Movies4u.Vip.Berlin 2024 Hindi Movie HD ESub 1080p.mkv', 'Movies4u.Vip.Gullak 2024 S04 WEB-DL 1080p Hindi x264 ESub', 'Movies4u.Vip.Maharaja 2024 WEB-DL 1080p HQ [Hin + Tam + Tel + Mal + Kan] ESub.mkv', 'Movies4u.Vip.Passengers.2016.2160p.HEVC.Blu-Ray.DUAL.x265.AAC.ESub.mkv', 'Movies4u.Vip.Sector 36 2024 WEB-DL 1080p [Tam + Tel + Hin] ESub.mkv', 'The.Raid.2.2014.1080p.Hindi.English.Vegamovies.to.mkv']\n"
     ]
    }
   ],
   "source": [
    "files1 = os.listdir(r\"D:\\movies collection\")   #raw_string\n",
    "print('files found', files1)"
   ]
  },
  {
   "cell_type": "code",
   "execution_count": 30,
   "metadata": {},
   "outputs": [
    {
     "data": {
      "text/plain": [
       "<generator object walk at 0x000001B32B34A2C0>"
      ]
     },
     "execution_count": 30,
     "metadata": {},
     "output_type": "execute_result"
    }
   ],
   "source": [
    "os.walk('C:')      #walk_means_detailed_data\n"
   ]
  },
  {
   "cell_type": "code",
   "execution_count": 31,
   "metadata": {},
   "outputs": [
    {
     "name": "stdout",
     "output_type": "stream",
     "text": [
      "=> C:\n",
      "📂 ['.git', 'Turtle']\n",
      "📄 ['conditions.ipynb', 'Dictionary.ipynb', 'Functions.ipynb', 'into.ipynb', 'Library.ipynb', 'List.ipynb', 'loop.ipynb', 'operators.ipynb', 'sets.ipynb']\n",
      "=> C:.git\n",
      "📂 ['hooks', 'info', 'logs', 'objects', 'refs']\n",
      "📄 ['COMMIT_EDITMSG', 'config', 'description', 'FETCH_HEAD', 'HEAD', 'index', 'ORIG_HEAD']\n",
      "=> C:.git\\hooks\n",
      "📂 []\n",
      "📄 ['applypatch-msg.sample', 'commit-msg.sample', 'fsmonitor-watchman.sample', 'post-update.sample', 'pre-applypatch.sample', 'pre-commit.sample', 'pre-merge-commit.sample', 'pre-push.sample', 'pre-rebase.sample', 'pre-receive.sample', 'prepare-commit-msg.sample', 'push-to-checkout.sample', 'sendemail-validate.sample', 'update.sample']\n",
      "=> C:.git\\info\n",
      "📂 []\n",
      "📄 ['exclude']\n",
      "=> C:.git\\logs\n",
      "📂 ['refs']\n",
      "📄 ['HEAD']\n",
      "=> C:.git\\logs\\refs\n",
      "📂 ['heads', 'remotes']\n",
      "📄 []\n",
      "=> C:.git\\logs\\refs\\heads\n",
      "📂 []\n",
      "📄 ['main']\n",
      "=> C:.git\\logs\\refs\\remotes\n",
      "📂 ['origin']\n",
      "📄 []\n",
      "=> C:.git\\logs\\refs\\remotes\\origin\n",
      "📂 []\n",
      "📄 ['main']\n",
      "=> C:.git\\objects\n",
      "📂 ['03', '0a', '14', '15', '2c', '31', '34', '44', '4c', '67', '6b', '7a', '7d', '8e', '94', '96', '99', 'a8', 'b4', 'b9', 'c4', 'cb', 'd1', 'dc', 'e7', 'ef', 'info', 'pack']\n",
      "📄 []\n",
      "=> C:.git\\objects\\03\n",
      "📂 []\n",
      "📄 ['36336284d48acdc07b2ae74105bde063cf3eb3']\n",
      "=> C:.git\\objects\\0a\n",
      "📂 []\n",
      "📄 ['9eb4fd9df5fc7314421ddff98412f54bc5bfd5']\n",
      "=> C:.git\\objects\\14\n",
      "📂 []\n",
      "📄 ['23738c2ca5d6a8f065228950f20c7e4f1a51df']\n",
      "=> C:.git\\objects\\15\n",
      "📂 []\n",
      "📄 ['75fcfd24b92da11d918fc367c49dd82ae62a5b']\n",
      "=> C:.git\\objects\\2c\n",
      "📂 []\n",
      "📄 ['f9c6085dbc9352186065566dde53c59db279d1']\n",
      "=> C:.git\\objects\\31\n",
      "📂 []\n",
      "📄 ['718e26dde7325cdc30e00a1f994e7f75d9c0ca']\n",
      "=> C:.git\\objects\\34\n",
      "📂 []\n",
      "📄 ['30b45de2b18a795e02313875caf4afdc6e3c50']\n",
      "=> C:.git\\objects\\44\n",
      "📂 []\n",
      "📄 ['7c9600aa45a2661720f8e62e4adb43eb204179']\n",
      "=> C:.git\\objects\\4c\n",
      "📂 []\n",
      "📄 ['d1189f48c36670bff4f2fd91173971fad670be']\n",
      "=> C:.git\\objects\\67\n",
      "📂 []\n",
      "📄 ['7c30540c88eb7184c7540538a2021f2fe21651']\n",
      "=> C:.git\\objects\\6b\n",
      "📂 []\n",
      "📄 ['12406302807d4eabb63247a5f55b5eff89ea06']\n",
      "=> C:.git\\objects\\7a\n",
      "📂 []\n",
      "📄 ['13c6bb1c9fdfd5f397eb20a0fc20ca460a8412']\n",
      "=> C:.git\\objects\\7d\n",
      "📂 []\n",
      "📄 ['bb82dce845eede60ea3f9b38206a05eea35323']\n",
      "=> C:.git\\objects\\8e\n",
      "📂 []\n",
      "📄 ['4ba7ec17bf0b3062268c0eb84d6f222ecae7bc']\n",
      "=> C:.git\\objects\\94\n",
      "📂 []\n",
      "📄 ['91928748c547f457aec2fdb6e70f35a1464e72']\n",
      "=> C:.git\\objects\\96\n",
      "📂 []\n",
      "📄 ['fa8c3f4e7a618abec8b1d2cb8e210a3c5de626']\n",
      "=> C:.git\\objects\\99\n",
      "📂 []\n",
      "📄 ['713d607535ea9bd0ba0db2e4c578b64b79e0e2']\n",
      "=> C:.git\\objects\\a8\n",
      "📂 []\n",
      "📄 ['c208593fa81149a4d04721d6b3e04fc10c2833']\n",
      "=> C:.git\\objects\\b4\n",
      "📂 []\n",
      "📄 ['f7c6c31217effbdc17c546dbe44d725e8fb587']\n",
      "=> C:.git\\objects\\b9\n",
      "📂 []\n",
      "📄 ['7d4cee1a1d8712578324f4dfed7027b025e4d1']\n",
      "=> C:.git\\objects\\c4\n",
      "📂 []\n",
      "📄 ['0f6363069e2a3e2a877b25b85678928fbdb677']\n",
      "=> C:.git\\objects\\cb\n",
      "📂 []\n",
      "📄 ['3008fce02a40f934c7bbaeec3c0dc491f66bea']\n",
      "=> C:.git\\objects\\d1\n",
      "📂 []\n",
      "📄 ['15a19ad3412cebc7035dd40f667719cd7b2971']\n",
      "=> C:.git\\objects\\dc\n",
      "📂 []\n",
      "📄 ['f05844fe33a8d4f5957eb91707888d8bcc514b']\n",
      "=> C:.git\\objects\\e7\n",
      "📂 []\n",
      "📄 ['ed7634aa404623b65d13e4f17ca22f9263d619']\n",
      "=> C:.git\\objects\\ef\n",
      "📂 []\n",
      "📄 ['b6f39e7d9339a773a44c56d4908dbd2ea6bc59']\n",
      "=> C:.git\\objects\\info\n",
      "📂 []\n",
      "📄 []\n",
      "=> C:.git\\objects\\pack\n",
      "📂 []\n",
      "📄 []\n",
      "=> C:.git\\refs\n",
      "📂 ['heads', 'remotes', 'tags']\n",
      "📄 []\n",
      "=> C:.git\\refs\\heads\n",
      "📂 []\n",
      "📄 ['main']\n",
      "=> C:.git\\refs\\remotes\n",
      "📂 ['origin']\n",
      "📄 []\n",
      "=> C:.git\\refs\\remotes\\origin\n",
      "📂 []\n",
      "📄 ['main']\n",
      "=> C:.git\\refs\\tags\n",
      "📂 []\n",
      "📄 []\n",
      "=> C:Turtle\n",
      "📂 ['Data Structure']\n",
      "📄 ['decagon', 'hexagon.py', 'octagon.py', 'pentagon.py', 'square.py']\n",
      "=> C:Turtle\\Data Structure\n",
      "📂 []\n",
      "📄 ['list.ipynb']\n",
      "total files found: 68\n"
     ]
    }
   ],
   "source": [
    "total_files = 0\n",
    "for path, folder, files in os.walk('C:'):\n",
    "    print('=>', path)\n",
    "    print('📂', folder)\n",
    "    print('📄', files)\n",
    "    total_files += len(files)\n",
    "print('total files found:', total_files)"
   ]
  },
  {
   "cell_type": "code",
   "execution_count": 32,
   "metadata": {},
   "outputs": [
    {
     "name": "stdout",
     "output_type": "stream",
     "text": [
      "folder exists\n"
     ]
    }
   ],
   "source": [
    "file = r\"C:\\Users\\HP\\OneDrive\\Documents\\My Tableau Repository\"\n",
    "if os.path.exists(file):\n",
    "    print('folder exists')\n",
    "else:\n",
    "    print('folder does not exist')"
   ]
  },
  {
   "cell_type": "code",
   "execution_count": 35,
   "metadata": {},
   "outputs": [
    {
     "name": "stdout",
     "output_type": "stream",
     "text": [
      "folder exists\n",
      "folder size: 4096 bytes\n",
      "folder size in kb: 4.0 KB\n",
      "folder size mb: 0.00390625 MB\n",
      "folder size gb: 3.814697265625e-06 GB\n"
     ]
    }
   ],
   "source": [
    "files= r\"C:\\Users\\HP\\OneDrive\\Documents\\My Tableau Repository\"\n",
    "if os.path.exists(files):\n",
    "    print('folder exists')\n",
    "    size= os.path.getsize(files)\n",
    "    print('folder size:', size, 'bytes')\n",
    "    print('folder size in kb:', size/1024, 'KB')\n",
    "    print('folder size mb:', size/1024/1024,'MB')\n",
    "    print('folder size gb:', size/1024/1024/1024,'GB')"
   ]
  },
  {
   "cell_type": "code",
   "execution_count": null,
   "metadata": {},
   "outputs": [],
   "source": []
  },
  {
   "cell_type": "code",
   "execution_count": null,
   "metadata": {},
   "outputs": [],
   "source": []
  },
  {
   "cell_type": "code",
   "execution_count": null,
   "metadata": {},
   "outputs": [],
   "source": []
  },
  {
   "cell_type": "code",
   "execution_count": null,
   "metadata": {},
   "outputs": [],
   "source": []
  },
  {
   "cell_type": "code",
   "execution_count": null,
   "metadata": {},
   "outputs": [],
   "source": []
  },
  {
   "cell_type": "code",
   "execution_count": null,
   "metadata": {},
   "outputs": [],
   "source": []
  },
  {
   "cell_type": "code",
   "execution_count": null,
   "metadata": {},
   "outputs": [],
   "source": []
  },
  {
   "cell_type": "code",
   "execution_count": null,
   "metadata": {},
   "outputs": [],
   "source": []
  },
  {
   "cell_type": "code",
   "execution_count": null,
   "metadata": {},
   "outputs": [],
   "source": []
  },
  {
   "cell_type": "code",
   "execution_count": null,
   "metadata": {},
   "outputs": [],
   "source": []
  },
  {
   "cell_type": "code",
   "execution_count": null,
   "metadata": {},
   "outputs": [],
   "source": []
  },
  {
   "cell_type": "code",
   "execution_count": null,
   "metadata": {},
   "outputs": [],
   "source": []
  },
  {
   "cell_type": "code",
   "execution_count": null,
   "metadata": {},
   "outputs": [],
   "source": []
  },
  {
   "cell_type": "code",
   "execution_count": null,
   "metadata": {},
   "outputs": [],
   "source": []
  }
 ],
 "metadata": {
  "kernelspec": {
   "display_name": "Python 3",
   "language": "python",
   "name": "python3"
  },
  "language_info": {
   "codemirror_mode": {
    "name": "ipython",
    "version": 3
   },
   "file_extension": ".py",
   "mimetype": "text/x-python",
   "name": "python",
   "nbconvert_exporter": "python",
   "pygments_lexer": "ipython3",
   "version": "3.12.4"
  }
 },
 "nbformat": 4,
 "nbformat_minor": 2
}
