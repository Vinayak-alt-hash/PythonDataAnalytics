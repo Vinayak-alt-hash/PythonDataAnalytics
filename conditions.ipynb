{
 "cells": [
  {
   "cell_type": "code",
   "execution_count": 14,
   "metadata": {},
   "outputs": [
    {
     "name": "stdout",
     "output_type": "stream",
     "text": [
      "even\n"
     ]
    }
   ],
   "source": [
    "num = int(input('enter a number'))\n",
    "\n",
    "if num%2==0:\n",
    "    print('even')\n",
    "else:\n",
    "    print('odd')"
   ]
  },
  {
   "cell_type": "code",
   "execution_count": 11,
   "metadata": {},
   "outputs": [
    {
     "data": {
      "text/plain": [
       "0"
      ]
     },
     "execution_count": 11,
     "metadata": {},
     "output_type": "execute_result"
    }
   ],
   "source": [
    "36 % 3"
   ]
  },
  {
   "cell_type": "code",
   "execution_count": 21,
   "metadata": {},
   "outputs": [
    {
     "name": "stdout",
     "output_type": "stream",
     "text": [
      "you are not eligible to vote\n"
     ]
    }
   ],
   "source": [
    "age = int(input(\"enter your age\"))\n",
    "\n",
    "if age >= 18:\n",
    "    print('you are eligible to vote')\n",
    "else:\n",
    "    print ('you are not eligible to vote')"
   ]
  },
  {
   "cell_type": "code",
   "execution_count": 24,
   "metadata": {},
   "outputs": [
    {
     "name": "stdout",
     "output_type": "stream",
     "text": [
      "Not divisible by 3 and 5\n"
     ]
    }
   ],
   "source": [
    "num1 = int( input(\"Enter number\") )\n",
    "\n",
    "if num1%3 == 0 and num1%5 == 0:\n",
    "    print('Divisible by 3 and 5')\n",
    "else:\n",
    "    print('Not divisible by 3 and 5')"
   ]
  },
  {
   "cell_type": "code",
   "execution_count": 29,
   "metadata": {},
   "outputs": [
    {
     "name": "stdout",
     "output_type": "stream",
     "text": [
      "Not divisible by 3 and 5\n"
     ]
    }
   ],
   "source": [
    "num2 = int( input('Enter number') )\n",
    "\n",
    "if num2%3 == 0 or num2%5 == 0:\n",
    "    print('Divisible by 3 or 5')\n",
    "else:\n",
    "    print('Not divisible by 3 and 5')"
   ]
  },
  {
   "cell_type": "code",
   "execution_count": 33,
   "metadata": {},
   "outputs": [
    {
     "name": "stdout",
     "output_type": "stream",
     "text": [
      "Negative\n"
     ]
    }
   ],
   "source": [
    "num2 = int( input(\"Enter number\") )\n",
    "\n",
    "if num2 > 0:\n",
    "    print('Positive')\n",
    "elif num2 < 0:\n",
    "    print('Negative')\n",
    "else:\n",
    "    print('Zero')"
   ]
  },
  {
   "cell_type": "code",
   "execution_count": 44,
   "metadata": {},
   "outputs": [
    {
     "name": "stdout",
     "output_type": "stream",
     "text": [
      "Fail\n"
     ]
    }
   ],
   "source": [
    "marks = int(input('enter marks'))\n",
    "\n",
    "if marks>=90 and marks<=100:\n",
    "    print('Grade A')\n",
    "elif marks>=70 and marks<=90:\n",
    "    print('Grade B')\n",
    "elif marks>=50 and marks<=70:\n",
    "    print('Grade C')\n",
    "elif marks<30 and marks >=0:\n",
    "    print('Fail')\n",
    "else:\n",
    "    print('Invalid Marks')"
   ]
  },
  {
   "cell_type": "code",
   "execution_count": null,
   "metadata": {},
   "outputs": [],
   "source": [
    "# WAP to print different messages on different temperatures\n",
    "# WAP to check if a number is divisible by 7"
   ]
  },
  {
   "cell_type": "code",
   "execution_count": 49,
   "metadata": {},
   "outputs": [
    {
     "name": "stdout",
     "output_type": "stream",
     "text": [
      "moderate\n"
     ]
    }
   ],
   "source": [
    "temperature = int(input('enter temperature'))\n",
    "\n",
    "if temperature>=50:\n",
    "    print('too hot')\n",
    "elif temperature <=30:\n",
    "    print('moderate')\n",
    "elif temperature <=12:\n",
    "    print('cold')\n"
   ]
  },
  {
   "cell_type": "code",
   "execution_count": 48,
   "metadata": {},
   "outputs": [
    {
     "name": "stdout",
     "output_type": "stream",
     "text": [
      "not divisble by 7\n"
     ]
    }
   ],
   "source": [
    "num1 = int(input('enter number'))\n",
    "if num1%7 ==0:\n",
    "    print('divisble by 7')\n",
    "else:\n",
    "    print ('not divisble by 7')"
   ]
  },
  {
   "cell_type": "code",
   "execution_count": 3,
   "metadata": {},
   "outputs": [
    {
     "data": {
      "text/plain": [
       "True"
      ]
     },
     "execution_count": 3,
     "metadata": {},
     "output_type": "execute_result"
    }
   ],
   "source": [
    "x,y = 10,20\n",
    "x is not y "
   ]
  },
  {
   "cell_type": "code",
   "execution_count": 5,
   "metadata": {},
   "outputs": [],
   "source": [
    "fruits = ['mangoes', 'apple','banana']"
   ]
  },
  {
   "cell_type": "code",
   "execution_count": 9,
   "metadata": {},
   "outputs": [
    {
     "data": {
      "text/plain": [
       "True"
      ]
     },
     "execution_count": 9,
     "metadata": {},
     "output_type": "execute_result"
    }
   ],
   "source": [
    "'banana' in fruits"
   ]
  },
  {
   "cell_type": "code",
   "execution_count": 12,
   "metadata": {},
   "outputs": [
    {
     "name": "stdout",
     "output_type": "stream",
     "text": [
      "A+\n",
      "A\n",
      "B\n",
      "C\n",
      "fail\n"
     ]
    }
   ],
   "source": [
    "marks = 95 \n",
    "if marks >= 90:\n",
    "    print('A+')\n",
    "if marks >= 80:\n",
    "    print('A')\n",
    "if marks >= 70:\n",
    "    print('B')\n",
    "if marks >= 60:\n",
    "    print('C')\n",
    "if marks >= 50:\n",
    "    print('fail')\n",
    "    "
   ]
  },
  {
   "cell_type": "code",
   "execution_count": 14,
   "metadata": {},
   "outputs": [
    {
     "name": "stdout",
     "output_type": "stream",
     "text": [
      "invalid marks\n"
     ]
    }
   ],
   "source": [
    "marks = 40 \n",
    "if marks >= 90:\n",
    "    print('A+')\n",
    "elif marks >= 80:\n",
    "    print('A')\n",
    "elif marks >= 70:\n",
    "    print('B')\n",
    "elif marks >= 60:\n",
    "    print('C')\n",
    "elif marks >= 50:\n",
    "    print('fail')\n",
    "else:\n",
    "    print('invalid marks')\n",
    "    "
   ]
  },
  {
   "cell_type": "code",
   "execution_count": 21,
   "metadata": {},
   "outputs": [
    {
     "name": "stdout",
     "output_type": "stream",
     "text": [
      "equilateral triangle\n"
     ]
    }
   ],
   "source": [
    "side1 = 20\n",
    "side2 = 20\n",
    "side3 = 20\n",
    "\n",
    "if side1 and side2 and side3:\n",
    "    print ('equilateral triangle')\n",
    "elif side1==side2 or side2==side3 or side1==side3:\n",
    "    print('isocelen triangle')\n",
    "else:\n",
    "    print('scalene triangle')"
   ]
  },
  {
   "cell_type": "code",
   "execution_count": 31,
   "metadata": {},
   "outputs": [
    {
     "name": "stdout",
     "output_type": "stream",
     "text": [
      "vowel\n"
     ]
    }
   ],
   "source": [
    "user= input('character')\n",
    "\n",
    "if user=='a' or user=='e' or user=='o'or user=='i' or user=='u':\n",
    "      print('vowel')\n",
    "else:\n",
    "    print('not a vowel')"
   ]
  },
  {
   "cell_type": "code",
   "execution_count": 35,
   "metadata": {},
   "outputs": [
    {
     "name": "stdout",
     "output_type": "stream",
     "text": [
      "a is not greater than c\n"
     ]
    }
   ],
   "source": [
    "a= 25\n",
    "b= 20\n",
    "c= 30\n",
    "if a>b:\n",
    "    if a>c :\n",
    "        print('a is the greatest')\n",
    "    else:\n",
    "        print('a is not greater than c')\n",
    "else:\n",
    "    print('a is not gretater than b')"
   ]
  },
  {
   "cell_type": "code",
   "execution_count": 9,
   "metadata": {},
   "outputs": [
    {
     "name": "stdout",
     "output_type": "stream",
     "text": [
      "registration successful🎉\n"
     ]
    }
   ],
   "source": [
    "username= input('Enter username')\n",
    "email= input('enter email')\n",
    "password= input('enter password')\n",
    "cpass= input('enter confirm password')\n",
    "if len(username)>5 and len(username)<20:\n",
    "    if '@' in email and len(email)<=20:\n",
    "        if len(password)>=8 and len(password)<=15:\n",
    "            if password==cpass:\n",
    "                print('registration successful🎉')\n",
    "            else:\n",
    "                print('password mismatch🤦‍♂️')\n",
    "        else:\n",
    "            print('invalid password😶‍🌫️')\n",
    "    else:\n",
    "        print('invalid email😢')\n",
    "else:\n",
    "    print('invalid username😒')"
   ]
  },
  {
   "cell_type": "code",
   "execution_count": 1,
   "metadata": {},
   "outputs": [
    {
     "name": "stdout",
     "output_type": "stream",
     "text": [
      "1\n",
      "2\n",
      "3\n",
      "4\n",
      "5\n",
      "6\n",
      "7\n",
      "8\n",
      "9\n",
      "10\n",
      "11\n",
      "12\n",
      "13\n",
      "14\n",
      "15\n",
      "16\n",
      "17\n",
      "18\n",
      "19\n",
      "20\n",
      "21\n",
      "22\n",
      "23\n",
      "24\n",
      "25\n",
      "26\n",
      "27\n",
      "28\n",
      "29\n",
      "30\n",
      "31\n",
      "32\n",
      "33\n",
      "34\n",
      "35\n",
      "36\n",
      "37\n",
      "38\n",
      "39\n",
      "40\n",
      "41\n",
      "42\n",
      "43\n",
      "44\n",
      "45\n",
      "46\n",
      "47\n",
      "48\n",
      "49\n",
      "50\n",
      "51\n",
      "52\n",
      "53\n",
      "54\n",
      "55\n",
      "56\n",
      "57\n",
      "58\n",
      "59\n",
      "60\n",
      "61\n",
      "62\n",
      "63\n",
      "64\n",
      "65\n",
      "66\n",
      "67\n",
      "68\n",
      "69\n",
      "70\n",
      "71\n",
      "72\n",
      "73\n",
      "74\n",
      "75\n",
      "76\n",
      "77\n",
      "78\n",
      "79\n",
      "80\n",
      "81\n",
      "82\n",
      "83\n",
      "84\n",
      "85\n",
      "86\n",
      "87\n",
      "88\n",
      "89\n",
      "90\n",
      "91\n",
      "92\n",
      "93\n",
      "94\n",
      "95\n",
      "96\n",
      "97\n",
      "98\n",
      "99\n"
     ]
    }
   ],
   "source": [
    "for i in range(1,100):\n",
    "    print(i)"
   ]
  },
  {
   "cell_type": "code",
   "execution_count": null,
   "metadata": {},
   "outputs": [],
   "source": []
  }
 ],
 "metadata": {
  "kernelspec": {
   "display_name": "Python 3",
   "language": "python",
   "name": "python3"
  },
  "language_info": {
   "codemirror_mode": {
    "name": "ipython",
    "version": 3
   },
   "file_extension": ".py",
   "mimetype": "text/x-python",
   "name": "python",
   "nbconvert_exporter": "python",
   "pygments_lexer": "ipython3",
   "version": "3.12.4"
  }
 },
 "nbformat": 4,
 "nbformat_minor": 2
}
