{
 "cells": [
  {
   "cell_type": "code",
   "execution_count": 66,
   "metadata": {},
   "outputs": [
    {
     "name": "stdout",
     "output_type": "stream",
     "text": [
      "facebook twitter instagram whatsapp linkedin google chrome maps zomato swiggy uber ola "
     ]
    }
   ],
   "source": [
    "apps= ['facebook','twitter', 'instagram', 'whatsapp', 'linkedin', 'google chrome', 'maps', 'zomato', 'swiggy', 'uber', 'ola']\n",
    "for x in apps:\n",
    "    print(x, end=\" \")"
   ]
  },
  {
   "cell_type": "code",
   "execution_count": 67,
   "metadata": {},
   "outputs": [
    {
     "name": "stdout",
     "output_type": "stream",
     "text": [
      "zomato\n",
      "linkedin\n"
     ]
    }
   ],
   "source": [
    "#Indexing\n",
    "print(apps[7])\n",
    "print(apps[-7])"
   ]
  },
  {
   "cell_type": "code",
   "execution_count": 68,
   "metadata": {},
   "outputs": [
    {
     "name": "stdout",
     "output_type": "stream",
     "text": [
      "['twitter', 'instagram', 'whatsapp', 'linkedin', 'google chrome']\n"
     ]
    }
   ],
   "source": [
    "#Slicing\n",
    "print(apps[1:6])"
   ]
  },
  {
   "cell_type": "code",
   "execution_count": 69,
   "metadata": {},
   "outputs": [
    {
     "data": {
      "text/plain": [
       "11"
      ]
     },
     "execution_count": 69,
     "metadata": {},
     "output_type": "execute_result"
    }
   ],
   "source": [
    "len(apps)"
   ]
  },
  {
   "cell_type": "code",
   "execution_count": 70,
   "metadata": {},
   "outputs": [
    {
     "name": "stdout",
     "output_type": "stream",
     "text": [
      "['whatsapp', 'linkedin']\n",
      "['whatsapp', 'google chrome', 'zomato']\n",
      "['whatsapp', 'linkedin', 'google chrome', 'maps', 'zomato', 'swiggy', 'uber', 'ola']\n",
      "['facebook', 'twitter', 'instagram', 'whatsapp', 'linkedin', 'google chrome', 'maps', 'zomato']\n",
      "['facebook', 'twitter', 'instagram', 'whatsapp', 'linkedin', 'google chrome', 'maps', 'zomato', 'swiggy', 'uber', 'ola']\n"
     ]
    }
   ],
   "source": [
    "print(apps[3:5])\n",
    "print(apps[3:8:2])\n",
    "print(apps[3:])\n",
    "print(apps[:8])\n",
    "print(apps[:])"
   ]
  },
  {
   "cell_type": "markdown",
   "metadata": {},
   "source": [
    "Methods\n",
    "\n",
    "-append\n",
    "\n",
    "-remove\n",
    "\n",
    "-copy\n",
    "\n",
    "-extend\n",
    "\n",
    "-clear\n",
    "\n",
    "-sort\n",
    "\n",
    "-pop\n",
    "\n",
    "-insert"
   ]
  },
  {
   "cell_type": "code",
   "execution_count": 71,
   "metadata": {},
   "outputs": [
    {
     "name": "stdout",
     "output_type": "stream",
     "text": [
      "['facebook', 'twitter', 'instagram', 'whatsapp', 'linkedin', 'google chrome', 'maps', 'zomato', 'swiggy', 'uber', 'ola']\n"
     ]
    }
   ],
   "source": [
    "#copy\n",
    "app2= apps.copy()\n",
    "print(app2)"
   ]
  },
  {
   "cell_type": "code",
   "execution_count": 72,
   "metadata": {},
   "outputs": [
    {
     "name": "stdout",
     "output_type": "stream",
     "text": [
      "['facebook', 'twitter', 'instagram', 'whatsapp', 'linkedin', 'google chrome', 'maps', 'zomato', 'swiggy', 'uber', 'ola', 'snapchat']\n"
     ]
    }
   ],
   "source": [
    "#append\n",
    "app2.append(\"snapchat\")\n",
    "print(app2)"
   ]
  },
  {
   "cell_type": "code",
   "execution_count": 73,
   "metadata": {},
   "outputs": [
    {
     "name": "stdout",
     "output_type": "stream",
     "text": [
      "['facebook', 'pintrest', 'twitter', 'instagram', 'whatsapp', 'linkedin', 'google chrome', 'maps', 'zomato', 'swiggy', 'uber', 'ola', 'snapchat']\n"
     ]
    }
   ],
   "source": [
    "#insert\n",
    "app2.insert(1,\"pintrest\")\n",
    "print(app2)"
   ]
  },
  {
   "cell_type": "code",
   "execution_count": 74,
   "metadata": {},
   "outputs": [
    {
     "name": "stdout",
     "output_type": "stream",
     "text": [
      "['facebook', 'pintrest', 'twitter', 'instagram', 'whatsapp', 'linkedin', 'google chrome', 'maps', 'zomato', 'swiggy', 'uber', 'ola']\n"
     ]
    }
   ],
   "source": [
    "#pop use with indexing number\n",
    "app2.pop(-1)\n",
    "print(app2)"
   ]
  },
  {
   "cell_type": "code",
   "execution_count": 75,
   "metadata": {},
   "outputs": [
    {
     "name": "stdout",
     "output_type": "stream",
     "text": [
      "['facebook', 'twitter', 'instagram', 'whatsapp', 'linkedin', 'google chrome', 'maps', 'zomato', 'swiggy', 'uber', 'ola']\n"
     ]
    }
   ],
   "source": [
    "#remove use with name\n",
    "app2.remove('pintrest')\n",
    "print(app2)"
   ]
  },
  {
   "cell_type": "code",
   "execution_count": 76,
   "metadata": {},
   "outputs": [
    {
     "name": "stdout",
     "output_type": "stream",
     "text": [
      "['facebook', 'google chrome', 'instagram', 'linkedin', 'maps', 'ola', 'swiggy', 'twitter', 'uber', 'whatsapp', 'zomato']\n"
     ]
    }
   ],
   "source": [
    "#sort alphabetically \n",
    "app2.sort()\n",
    "print(app2)"
   ]
  },
  {
   "cell_type": "code",
   "execution_count": 78,
   "metadata": {},
   "outputs": [
    {
     "name": "stdout",
     "output_type": "stream",
     "text": [
      "[1, 2, 3]\n"
     ]
    }
   ],
   "source": [
    "a= [1,2,3]\n",
    "print(a)"
   ]
  },
  {
   "cell_type": "code",
   "execution_count": 80,
   "metadata": {},
   "outputs": [
    {
     "name": "stdout",
     "output_type": "stream",
     "text": [
      "['facebook', 'google chrome', 'instagram', 'linkedin', 'maps', 'ola', 'swiggy', 'twitter', 'uber', 'whatsapp', 'zomato', 1, 2, 3]\n"
     ]
    }
   ],
   "source": [
    "app2.extend(a)\n",
    "print(app2)"
   ]
  },
  {
   "cell_type": "code",
   "execution_count": 82,
   "metadata": {},
   "outputs": [
    {
     "name": "stdout",
     "output_type": "stream",
     "text": [
      "[1, 2, 3, 'facebook', 'google chrome', 'instagram', 'linkedin', 'maps', 'ola', 'swiggy', 'twitter', 'uber', 'whatsapp', 'zomato', 1, 2, 3, 'facebook', 'google chrome', 'instagram', 'linkedin', 'maps', 'ola', 'swiggy', 'twitter', 'uber', 'whatsapp', 'zomato', 1, 2, 3]\n"
     ]
    }
   ],
   "source": [
    "a.extend(app2)\n",
    "print(a)"
   ]
  },
  {
   "cell_type": "code",
   "execution_count": 83,
   "metadata": {},
   "outputs": [
    {
     "name": "stdout",
     "output_type": "stream",
     "text": [
      "[]\n"
     ]
    }
   ],
   "source": [
    "app2.clear()\n",
    "print(app2)"
   ]
  },
  {
   "cell_type": "code",
   "execution_count": null,
   "metadata": {},
   "outputs": [],
   "source": []
  }
 ],
 "metadata": {
  "kernelspec": {
   "display_name": "Python 3",
   "language": "python",
   "name": "python3"
  },
  "language_info": {
   "codemirror_mode": {
    "name": "ipython",
    "version": 3
   },
   "file_extension": ".py",
   "mimetype": "text/x-python",
   "name": "python",
   "nbconvert_exporter": "python",
   "pygments_lexer": "ipython3",
   "version": "3.12.4"
  }
 },
 "nbformat": 4,
 "nbformat_minor": 2
}
