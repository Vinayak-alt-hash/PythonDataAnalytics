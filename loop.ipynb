{
 "cells": [
  {
   "cell_type": "code",
   "execution_count": 1,
   "metadata": {},
   "outputs": [
    {
     "name": "stdout",
     "output_type": "stream",
     "text": [
      "['orange', 'apple', 'pear', 'banana', 'kiwi']\n"
     ]
    }
   ],
   "source": [
    "fruits= ['orange','apple','pear','banana', 'kiwi']\n",
    "print(fruits)\n"
   ]
  },
  {
   "cell_type": "code",
   "execution_count": 2,
   "metadata": {},
   "outputs": [
    {
     "name": "stdout",
     "output_type": "stream",
     "text": [
      "orange\n",
      "apple\n",
      "pear\n",
      "banana\n",
      "kiwi\n"
     ]
    }
   ],
   "source": [
    "for x in fruits:\n",
    "    print(x)"
   ]
  },
  {
   "cell_type": "code",
   "execution_count": 5,
   "metadata": {},
   "outputs": [
    {
     "name": "stdout",
     "output_type": "stream",
     "text": [
      "orange apple pear banana kiwi "
     ]
    }
   ],
   "source": [
    "for x in fruits:\n",
    "    print(x, end=' ')"
   ]
  },
  {
   "cell_type": "code",
   "execution_count": 7,
   "metadata": {},
   "outputs": [
    {
     "name": "stdout",
     "output_type": "stream",
     "text": [
      "chandrashekhar"
     ]
    }
   ],
   "source": [
    "name= 'chandrashekhar'\n",
    "for i in name:\n",
    "    print(i, end='')"
   ]
  },
  {
   "cell_type": "code",
   "execution_count": 16,
   "metadata": {},
   "outputs": [
    {
     "name": "stdout",
     "output_type": "stream",
     "text": [
      "0\n",
      "2\n",
      "4\n",
      "6\n",
      "8\n",
      "10\n",
      "12\n",
      "14\n",
      "16\n",
      "18\n",
      "20\n",
      "22\n",
      "24\n",
      "26\n",
      "28\n"
     ]
    }
   ],
   "source": [
    "for num in range(0,30,2):\n",
    "    print(num)"
   ]
  },
  {
   "cell_type": "code",
   "execution_count": 2,
   "metadata": {},
   "outputs": [
    {
     "name": "stdout",
     "output_type": "stream",
     "text": [
      "vinayak sharma\n",
      "vinayak sharma\n",
      "vinayak sharma\n",
      "vinayak sharma\n",
      "vinayak sharma\n"
     ]
    }
   ],
   "source": [
    "name=\"vinayak sharma\"\n",
    "for name in range(5):\n",
    "    print(\"vinayak sharma\")\n"
   ]
  },
  {
   "cell_type": "code",
   "execution_count": 29,
   "metadata": {},
   "outputs": [
    {
     "name": "stdout",
     "output_type": "stream",
     "text": [
      "sum 15\n",
      "sum of 10 and 5 is 15\n",
      "sum of10 and 5 is 15\n"
     ]
    }
   ],
   "source": [
    "a=10\n",
    "b=5\n",
    "sum=a+b\n",
    "print('sum', sum)\n",
    "print ('sum of', a, 'and',b, 'is',sum)\n",
    "print(f'sum of{a} and {b} is {sum}')"
   ]
  },
  {
   "cell_type": "code",
   "execution_count": 37,
   "metadata": {},
   "outputs": [
    {
     "name": "stdout",
     "output_type": "stream",
     "text": [
      "15* 1 = 15\n",
      "15* 2 = 30\n",
      "15* 3 = 45\n",
      "15* 4 = 60\n",
      "15* 5 = 75\n",
      "15* 6 = 90\n",
      "15* 7 = 105\n",
      "15* 8 = 120\n",
      "15* 9 = 135\n",
      "15* 10 = 150\n"
     ]
    }
   ],
   "source": [
    "for num in range(1,11):\n",
    "    print(f'15* {num} = {15*num}')"
   ]
  },
  {
   "cell_type": "code",
   "execution_count": 4,
   "metadata": {},
   "outputs": [],
   "source": [
    "class Phone:\n",
    "    def make_call (self):\n",
    "        print('making phone call')\n",
    "\n",
    "    def play_game(self):\n",
    "        print('playing game')\n"
   ]
  },
  {
   "cell_type": "code",
   "execution_count": 6,
   "metadata": {},
   "outputs": [],
   "source": [
    "p1=Phone()"
   ]
  },
  {
   "cell_type": "code",
   "execution_count": 9,
   "metadata": {},
   "outputs": [
    {
     "name": "stdout",
     "output_type": "stream",
     "text": [
      "making phone call\n",
      "playing game\n"
     ]
    }
   ],
   "source": [
    "p1.make_call()\n",
    "p1.play_game()"
   ]
  },
  {
   "cell_type": "code",
   "execution_count": 19,
   "metadata": {},
   "outputs": [],
   "source": [
    "class Phone:\n",
    "    def set_color(self,color):\n",
    "        self.color=color\n",
    "    def set_cost(self,cost):\n",
    "        self.cost=cost\n",
    "    def show_color(self):\n",
    "        return self.color\n",
    "    def show_cost(self):\n",
    "        return self.cost\n",
    "    def make_call (self):\n",
    "        print('making phone call')\n",
    "    def play_game(self):\n",
    "        print('playing game')    \n",
    "p1= Phone() \n",
    "\n"
   ]
  },
  {
   "cell_type": "code",
   "execution_count": 20,
   "metadata": {},
   "outputs": [],
   "source": [
    "p1.set_color('red') \n",
    "p1.set_cost(5000)"
   ]
  },
  {
   "cell_type": "code",
   "execution_count": 25,
   "metadata": {},
   "outputs": [
    {
     "data": {
      "text/plain": [
       "5000"
      ]
     },
     "execution_count": 25,
     "metadata": {},
     "output_type": "execute_result"
    }
   ],
   "source": [
    "p1.show_color()\n",
    "p1.show_cost()"
   ]
  },
  {
   "cell_type": "code",
   "execution_count": 41,
   "metadata": {},
   "outputs": [],
   "source": [
    "class employee:\n",
    "    def __init__(Self,name,age,salary,gender):\n",
    "        self.name= name\n",
    "        self.age= age\n",
    "        self.salary= salary\n",
    "        self.gender= gender\n",
    "\n",
    "def emplyoee_detail(self):##\n",
    "    print('name of employee is', self.name)\n",
    "    print('age of employee is ', self.age)\n",
    "    print('salary of emplyoee is', self.salary)\n",
    "    print('gender of employee is', self.gender)"
   ]
  },
  {
   "cell_type": "code",
   "execution_count": 1,
   "metadata": {},
   "outputs": [],
   "source": [
    "##Write a program to print numbers from 1 to 10 using a for loop.##"
   ]
  },
  {
   "cell_type": "code",
   "execution_count": 4,
   "metadata": {},
   "outputs": [
    {
     "name": "stdout",
     "output_type": "stream",
     "text": [
      "1\n",
      "2\n",
      "3\n",
      "4\n",
      "5\n",
      "6\n",
      "7\n",
      "8\n",
      "9\n",
      "10\n"
     ]
    }
   ],
   "source": [
    "for i in range (1,11):\n",
    "    print(i)"
   ]
  },
  {
   "cell_type": "code",
   "execution_count": 5,
   "metadata": {},
   "outputs": [],
   "source": [
    "##Write a program to print the multiplication table of a given number using a while loop.##"
   ]
  },
  {
   "cell_type": "code",
   "execution_count": 24,
   "metadata": {},
   "outputs": [
    {
     "name": "stdout",
     "output_type": "stream",
     "text": [
      "48*1=48\n",
      "48*2=96\n",
      "48*3=144\n",
      "48*4=192\n",
      "48*5=240\n",
      "48*6=288\n",
      "48*7=336\n",
      "48*8=384\n",
      "48*9=432\n",
      "48*10=480\n"
     ]
    }
   ],
   "source": [
    "for i in range (1,11):\n",
    "    print(f\"48*{i}={48*i}\")"
   ]
  },
  {
   "cell_type": "code",
   "execution_count": 31,
   "metadata": {},
   "outputs": [
    {
     "name": "stdout",
     "output_type": "stream",
     "text": [
      "2\n",
      "4\n",
      "6\n",
      "8\n",
      "10\n",
      "12\n",
      "14\n",
      "16\n",
      "18\n",
      "20\n",
      "sum of even number is from 1 to 20 is 110\n"
     ]
    }
   ],
   "source": [
    "for i in range(1,21):\n",
    "    if i%2==0:\n",
    "        print(i)\n",
    "        sum=sum+1\n",
    "print(\"sum of even number is from 1 to 20 is\", sum)\n"
   ]
  },
  {
   "cell_type": "code",
   "execution_count": 35,
   "metadata": {},
   "outputs": [
    {
     "name": "stdout",
     "output_type": "stream",
     "text": [
      "5050\n"
     ]
    }
   ],
   "source": [
    "sum=0\n",
    "for i in range(1,101):\n",
    "    sum=sum+i\n",
    "print(sum)"
   ]
  },
  {
   "cell_type": "code",
   "execution_count": 40,
   "metadata": {},
   "outputs": [
    {
     "name": "stdout",
     "output_type": "stream",
     "text": [
      "sum of intergers from 1 to 100 5050\n"
     ]
    }
   ],
   "source": [
    "sum=0\n",
    "num=1\n",
    "\n",
    "while num<=100:\n",
    "        sum=sum+num\n",
    "        num=num+1\n",
    "print(\"sum of intergers from 1 to 100\",sum)"
   ]
  },
  {
   "cell_type": "markdown",
   "metadata": {},
   "source": [
    "BREAK AND CONTINUE\n"
   ]
  },
  {
   "cell_type": "code",
   "execution_count": 12,
   "metadata": {},
   "outputs": [
    {
     "name": "stdout",
     "output_type": "stream",
     "text": [
      "appple\n",
      "banana\n",
      "kiwi\n"
     ]
    }
   ],
   "source": [
    "#BREAK\n",
    "fruits=[\"appple\", \"banana\", \"kiwi\", \"eggplant\", \"onion\", \"orange\"]\n",
    "for fruit in fruits:\n",
    "    if fruit==\"eggplant\":\n",
    "        break\n",
    "    print(fruit)"
   ]
  },
  {
   "cell_type": "code",
   "execution_count": 13,
   "metadata": {},
   "outputs": [
    {
     "name": "stdout",
     "output_type": "stream",
     "text": [
      "appple\n",
      "banana\n",
      "kiwi\n",
      "onion\n",
      "orange\n"
     ]
    }
   ],
   "source": [
    "#continue\n",
    "fruits=[\"appple\", \"banana\", \"kiwi\", \"eggplant\", \"onion\", \"orange\"]\n",
    "for fruit in fruits:\n",
    "    if fruit==\"eggplant\":\n",
    "        continue\n",
    "    print(fruit)"
   ]
  },
  {
   "cell_type": "code",
   "execution_count": 16,
   "metadata": {},
   "outputs": [
    {
     "name": "stdout",
     "output_type": "stream",
     "text": [
      "vinyk shrm"
     ]
    }
   ],
   "source": [
    "name= \"vinayak sharma\"\n",
    "for n in name:\n",
    "    if n==\"a\":\n",
    "        continue\n",
    "    print(n, end=\"\")\n",
    "     "
   ]
  },
  {
   "cell_type": "code",
   "execution_count": 25,
   "metadata": {},
   "outputs": [
    {
     "name": "stdout",
     "output_type": "stream",
     "text": [
      "0, appple\n",
      "1, banana\n",
      "2, kiwi\n",
      "3, eggplant\n",
      "4, onion\n",
      "5, orange\n"
     ]
    }
   ],
   "source": [
    "#enumerate\n",
    "for i,f in enumerate(fruits):\n",
    "    print(f\"{i}, {f}\")"
   ]
  },
  {
   "cell_type": "code",
   "execution_count": 34,
   "metadata": {},
   "outputs": [
    {
     "name": "stdout",
     "output_type": "stream",
     "text": [
      "0:pen\n",
      "1:book\n",
      "2:pencil\n",
      "3:eraser\n",
      "5:bag\n"
     ]
    }
   ],
   "source": [
    "items= ['pen', 'book','pencil', 'eraser', 'scale','bag']\n",
    "for i, v in enumerate(items):\n",
    "     if i == 4:\n",
    "           continue\n",
    "     print(f'{i}:{v}')"
   ]
  },
  {
   "cell_type": "code",
   "execution_count": null,
   "metadata": {},
   "outputs": [],
   "source": []
  }
 ],
 "metadata": {
  "kernelspec": {
   "display_name": "Python 3",
   "language": "python",
   "name": "python3"
  },
  "language_info": {
   "codemirror_mode": {
    "name": "ipython",
    "version": 3
   },
   "file_extension": ".py",
   "mimetype": "text/x-python",
   "name": "python",
   "nbconvert_exporter": "python",
   "pygments_lexer": "ipython3",
   "version": "3.12.4"
  }
 },
 "nbformat": 4,
 "nbformat_minor": 2
}
