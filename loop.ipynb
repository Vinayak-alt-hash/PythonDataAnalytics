{
 "cells": [
  {
   "cell_type": "code",
   "execution_count": 1,
   "metadata": {},
   "outputs": [
    {
     "name": "stdout",
     "output_type": "stream",
     "text": [
      "['orange', 'apple', 'pear', 'banana', 'kiwi']\n"
     ]
    }
   ],
   "source": [
    "fruits= ['orange','apple','pear','banana', 'kiwi']\n",
    "print(fruits)\n"
   ]
  },
  {
   "cell_type": "code",
   "execution_count": 2,
   "metadata": {},
   "outputs": [
    {
     "name": "stdout",
     "output_type": "stream",
     "text": [
      "orange\n",
      "apple\n",
      "pear\n",
      "banana\n",
      "kiwi\n"
     ]
    }
   ],
   "source": [
    "for x in fruits:\n",
    "    print(x)"
   ]
  },
  {
   "cell_type": "code",
   "execution_count": 5,
   "metadata": {},
   "outputs": [
    {
     "name": "stdout",
     "output_type": "stream",
     "text": [
      "orange apple pear banana kiwi "
     ]
    }
   ],
   "source": [
    "for x in fruits:\n",
    "    print(x, end=' ')"
   ]
  },
  {
   "cell_type": "code",
   "execution_count": 7,
   "metadata": {},
   "outputs": [
    {
     "name": "stdout",
     "output_type": "stream",
     "text": [
      "chandrashekhar"
     ]
    }
   ],
   "source": [
    "name= 'chandrashekhar'\n",
    "for i in name:\n",
    "    print(i, end='')"
   ]
  },
  {
   "cell_type": "code",
   "execution_count": 16,
   "metadata": {},
   "outputs": [
    {
     "name": "stdout",
     "output_type": "stream",
     "text": [
      "0\n",
      "2\n",
      "4\n",
      "6\n",
      "8\n",
      "10\n",
      "12\n",
      "14\n",
      "16\n",
      "18\n",
      "20\n",
      "22\n",
      "24\n",
      "26\n",
      "28\n"
     ]
    }
   ],
   "source": [
    "for num in range(0,30,2):\n",
    "    print(num)"
   ]
  },
  {
   "cell_type": "code",
   "execution_count": 21,
   "metadata": {},
   "outputs": [
    {
     "name": "stdout",
     "output_type": "stream",
     "text": [
      "vinayak sharma\n",
      "vinayak sharma\n",
      "vinayak sharma\n",
      "vinayak sharma\n",
      "vinayak sharma\n"
     ]
    }
   ],
   "source": [
    "name=\"vinayak sharma\"\n",
    "for name in range(5):\n",
    "    print('vinayak sharma')\n"
   ]
  },
  {
   "cell_type": "code",
   "execution_count": 29,
   "metadata": {},
   "outputs": [
    {
     "name": "stdout",
     "output_type": "stream",
     "text": [
      "sum 15\n",
      "sum of 10 and 5 is 15\n",
      "sum of10 and 5 is 15\n"
     ]
    }
   ],
   "source": [
    "a=10\n",
    "b=5\n",
    "sum=a+b\n",
    "print('sum', sum)\n",
    "print ('sum of', a, 'and',b, 'is',sum)\n",
    "print(f'sum of{a} and {b} is {sum}')"
   ]
  },
  {
   "cell_type": "code",
   "execution_count": 37,
   "metadata": {},
   "outputs": [
    {
     "name": "stdout",
     "output_type": "stream",
     "text": [
      "15* 1 = 15\n",
      "15* 2 = 30\n",
      "15* 3 = 45\n",
      "15* 4 = 60\n",
      "15* 5 = 75\n",
      "15* 6 = 90\n",
      "15* 7 = 105\n",
      "15* 8 = 120\n",
      "15* 9 = 135\n",
      "15* 10 = 150\n"
     ]
    }
   ],
   "source": [
    "for num in range(1,11):\n",
    "    print(f'15* {num} = {15*num}')"
   ]
  },
  {
   "cell_type": "code",
   "execution_count": 4,
   "metadata": {},
   "outputs": [],
   "source": [
    "class Phone:\n",
    "    def make_call (self):\n",
    "        print('making phone call')\n",
    "\n",
    "    def play_game(self):\n",
    "        print('playing game')\n"
   ]
  },
  {
   "cell_type": "code",
   "execution_count": 6,
   "metadata": {},
   "outputs": [],
   "source": [
    "p1=Phone()"
   ]
  },
  {
   "cell_type": "code",
   "execution_count": 9,
   "metadata": {},
   "outputs": [
    {
     "name": "stdout",
     "output_type": "stream",
     "text": [
      "making phone call\n",
      "playing game\n"
     ]
    }
   ],
   "source": [
    "p1.make_call()\n",
    "p1.play_game()"
   ]
  },
  {
   "cell_type": "code",
   "execution_count": 19,
   "metadata": {},
   "outputs": [],
   "source": [
    "class Phone:\n",
    "    def set_color(self,color):\n",
    "        self.color=color\n",
    "    def set_cost(self,cost):\n",
    "        self.cost=cost\n",
    "    def show_color(self):\n",
    "        return self.color\n",
    "    def show_cost(self):\n",
    "        return self.cost\n",
    "    def make_call (self):\n",
    "        print('making phone call')\n",
    "    def play_game(self):\n",
    "        print('playing game')    \n",
    "p1= Phone() \n",
    "\n"
   ]
  },
  {
   "cell_type": "code",
   "execution_count": 20,
   "metadata": {},
   "outputs": [],
   "source": [
    "p1.set_color('red') \n",
    "p1.set_cost(5000)"
   ]
  },
  {
   "cell_type": "code",
   "execution_count": 25,
   "metadata": {},
   "outputs": [
    {
     "data": {
      "text/plain": [
       "5000"
      ]
     },
     "execution_count": 25,
     "metadata": {},
     "output_type": "execute_result"
    }
   ],
   "source": [
    "p1.show_color()\n",
    "p1.show_cost()"
   ]
  },
  {
   "cell_type": "code",
   "execution_count": 37,
   "metadata": {},
   "outputs": [
    {
     "ename": "SyntaxError",
     "evalue": "invalid syntax (2088848581.py, line 2)",
     "output_type": "error",
     "traceback": [
      "\u001b[1;36m  Cell \u001b[1;32mIn[37], line 2\u001b[1;36m\u001b[0m\n\u001b[1;33m    def__init__('self,name,age,salary,gender'):\u001b[0m\n\u001b[1;37m                                              ^\u001b[0m\n\u001b[1;31mSyntaxError\u001b[0m\u001b[1;31m:\u001b[0m invalid syntax\n"
     ]
    }
   ],
   "source": [
    "class employee:\n",
    "    def__init__(self,name,age,salary,gender):\n",
    "\n",
    "    self.name= name\n",
    "    self.age= age\n",
    "    self.salary= salary\n",
    "    self.gender= gender\n",
    "\n",
    "def emplyoee_detail(self):\n",
    "    print('name of employee is', self.name)\n",
    "    print('age of employee is ', self.age)\n",
    "    print('salary of emplyoee is', self.salary)\n",
    "    print('gender of employee is', self.gender)"
   ]
  },
  {
   "cell_type": "code",
   "execution_count": null,
   "metadata": {},
   "outputs": [],
   "source": []
  }
 ],
 "metadata": {
  "kernelspec": {
   "display_name": "Python 3",
   "language": "python",
   "name": "python3"
  },
  "language_info": {
   "codemirror_mode": {
    "name": "ipython",
    "version": 3
   },
   "file_extension": ".py",
   "mimetype": "text/x-python",
   "name": "python",
   "nbconvert_exporter": "python",
   "pygments_lexer": "ipython3",
   "version": "3.12.4"
  }
 },
 "nbformat": 4,
 "nbformat_minor": 2
}
