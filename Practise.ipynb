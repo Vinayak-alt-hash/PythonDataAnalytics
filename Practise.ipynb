{
 "cells": [
  {
   "cell_type": "code",
   "execution_count": null,
   "metadata": {},
   "outputs": [],
   "source": [
    "#Write a program to print numbers from 1 to 10 using a for loop.\n",
    "\n",
    "for x in range(1,11):\n",
    "    print(x)"
   ]
  },
  {
   "cell_type": "code",
   "execution_count": null,
   "metadata": {},
   "outputs": [],
   "source": [
    "#Write a program to print the multiplication table of a given number using a while loop.\n",
    "\n",
    "for x in range(1,11):\n",
    "    print(f\"50*{x}={50*x}\")"
   ]
  },
  {
   "cell_type": "code",
   "execution_count": null,
   "metadata": {},
   "outputs": [],
   "source": [
    "#Write a program to find the sum of all even numbers between 1 and 100 using a for loop.\n",
    "\n",
    "for x in range(1,111):\n",
    "    if x%2==0:\n",
    "        print(x)\n",
    "\n"
   ]
  },
  {
   "cell_type": "code",
   "execution_count": 23,
   "metadata": {},
   "outputs": [
    {
     "name": "stdout",
     "output_type": "stream",
     "text": [
      "ASCII\n"
     ]
    }
   ],
   "source": [
    "#Write a program to print the ASCII values of all uppercase letters using a for loop.\n",
    "x=(\"ASCII\")\n",
    "y= x.upper()\n",
    "print(y)"
   ]
  },
  {
   "cell_type": "code",
   "execution_count": 28,
   "metadata": {},
   "outputs": [
    {
     "name": "stdout",
     "output_type": "stream",
     "text": [
      "It is a prime number\n"
     ]
    }
   ],
   "source": [
    "#Write a program to check if a given number is prime or not using a while loop.\n",
    "\n",
    "num1= int(input(\"enter a number\"))\n",
    "if num1%1==0:\n",
    "    print(\"It is a prime number\")\n",
    "else:\n",
    "    print('It is not a prime number')\n"
   ]
  },
  {
   "cell_type": "code",
   "execution_count": null,
   "metadata": {},
   "outputs": [],
   "source": []
  }
 ],
 "metadata": {
  "kernelspec": {
   "display_name": "Python 3",
   "language": "python",
   "name": "python3"
  },
  "language_info": {
   "codemirror_mode": {
    "name": "ipython",
    "version": 3
   },
   "file_extension": ".py",
   "mimetype": "text/x-python",
   "name": "python",
   "nbconvert_exporter": "python",
   "pygments_lexer": "ipython3",
   "version": "3.12.4"
  }
 },
 "nbformat": 4,
 "nbformat_minor": 2
}
